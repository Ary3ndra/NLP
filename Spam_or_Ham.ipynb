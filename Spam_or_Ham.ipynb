{
  "nbformat": 4,
  "nbformat_minor": 0,
  "metadata": {
    "colab": {
      "provenance": [],
      "authorship_tag": "ABX9TyOEmvY5sVh5Qynl+K6UPK5F",
      "include_colab_link": true
    },
    "kernelspec": {
      "name": "python3",
      "display_name": "Python 3"
    },
    "language_info": {
      "name": "python"
    }
  },
  "cells": [
    {
      "cell_type": "markdown",
      "metadata": {
        "id": "view-in-github",
        "colab_type": "text"
      },
      "source": [
        "<a href=\"https://colab.research.google.com/github/AshmithaMB/NLP/blob/main/Spam_or_Ham.ipynb\" target=\"_parent\"><img src=\"https://colab.research.google.com/assets/colab-badge.svg\" alt=\"Open In Colab\"/></a>"
      ]
    },
    {
      "cell_type": "markdown",
      "source": [
        "#####Natural Language Processing & Machine Learning"
      ],
      "metadata": {
        "id": "uthE38B1ztb0"
      }
    },
    {
      "cell_type": "markdown",
      "source": [
        "###Detecting Spam & Ham Emails "
      ],
      "metadata": {
        "id": "xieDDkDc0hzk"
      }
    },
    {
      "cell_type": "markdown",
      "source": [
        "#####Importing the Libraries"
      ],
      "metadata": {
        "id": "l7BKtVKx0voJ"
      }
    },
    {
      "cell_type": "code",
      "execution_count": 24,
      "metadata": {
        "id": "ERtxWlhnjjdE"
      },
      "outputs": [],
      "source": [
        "import pandas as pd \n",
        "import string #to handle punctuations and special characters\n",
        "from nltk.corpus import stopwords #to andle stopwords dictionary\n",
        "from sklearn.feature_extraction.text import CountVectorizer\n",
        "from sklearn.feature_extraction.text import TfidfTransformer\n",
        "from sklearn.model_selection import train_test_split\n",
        "from sklearn import svm\n",
        "from sklearn import metrics"
      ]
    },
    {
      "cell_type": "code",
      "source": [
        "df_spam = pd.read_csv(\"/content/NB.csv\" , encoding = 'ISO-8859-1')"
      ],
      "metadata": {
        "id": "8dnaYe7Pjyxl"
      },
      "execution_count": 25,
      "outputs": []
    },
    {
      "cell_type": "code",
      "source": [
        "df_spam.head(10)"
      ],
      "metadata": {
        "colab": {
          "base_uri": "https://localhost:8080/",
          "height": 363
        },
        "id": "Z12dgvlhldLX",
        "outputId": "63dc15f4-244e-4f84-96e5-14d29c71de95"
      },
      "execution_count": 26,
      "outputs": [
        {
          "output_type": "execute_result",
          "data": {
            "text/plain": [
              "   type                                               text\n",
              "0   ham  Hope you are having a good week. Just checking in\n",
              "1   ham                            K..give back my thanks.\n",
              "2   ham        Am also doing in cbe only. But have to pay.\n",
              "3  spam  complimentary 4 STAR Ibiza Holiday or å£10,000...\n",
              "4  spam  okmail: Dear Dave this is your final notice to...\n",
              "5   ham  Aiya we discuss later lar... Pick u up at 4 is...\n",
              "6   ham                             Are you this much buzy\n",
              "7   ham                    Please ask mummy to call father\n",
              "8  spam  Marvel Mobile Play the official Ultimate Spide...\n",
              "9   ham     fyi I'm at usf now, swing by the room whenever"
            ],
            "text/html": [
              "\n",
              "  <div id=\"df-bc8b648b-1085-4794-9e24-ca0aead4d355\">\n",
              "    <div class=\"colab-df-container\">\n",
              "      <div>\n",
              "<style scoped>\n",
              "    .dataframe tbody tr th:only-of-type {\n",
              "        vertical-align: middle;\n",
              "    }\n",
              "\n",
              "    .dataframe tbody tr th {\n",
              "        vertical-align: top;\n",
              "    }\n",
              "\n",
              "    .dataframe thead th {\n",
              "        text-align: right;\n",
              "    }\n",
              "</style>\n",
              "<table border=\"1\" class=\"dataframe\">\n",
              "  <thead>\n",
              "    <tr style=\"text-align: right;\">\n",
              "      <th></th>\n",
              "      <th>type</th>\n",
              "      <th>text</th>\n",
              "    </tr>\n",
              "  </thead>\n",
              "  <tbody>\n",
              "    <tr>\n",
              "      <th>0</th>\n",
              "      <td>ham</td>\n",
              "      <td>Hope you are having a good week. Just checking in</td>\n",
              "    </tr>\n",
              "    <tr>\n",
              "      <th>1</th>\n",
              "      <td>ham</td>\n",
              "      <td>K..give back my thanks.</td>\n",
              "    </tr>\n",
              "    <tr>\n",
              "      <th>2</th>\n",
              "      <td>ham</td>\n",
              "      <td>Am also doing in cbe only. But have to pay.</td>\n",
              "    </tr>\n",
              "    <tr>\n",
              "      <th>3</th>\n",
              "      <td>spam</td>\n",
              "      <td>complimentary 4 STAR Ibiza Holiday or å£10,000...</td>\n",
              "    </tr>\n",
              "    <tr>\n",
              "      <th>4</th>\n",
              "      <td>spam</td>\n",
              "      <td>okmail: Dear Dave this is your final notice to...</td>\n",
              "    </tr>\n",
              "    <tr>\n",
              "      <th>5</th>\n",
              "      <td>ham</td>\n",
              "      <td>Aiya we discuss later lar... Pick u up at 4 is...</td>\n",
              "    </tr>\n",
              "    <tr>\n",
              "      <th>6</th>\n",
              "      <td>ham</td>\n",
              "      <td>Are you this much buzy</td>\n",
              "    </tr>\n",
              "    <tr>\n",
              "      <th>7</th>\n",
              "      <td>ham</td>\n",
              "      <td>Please ask mummy to call father</td>\n",
              "    </tr>\n",
              "    <tr>\n",
              "      <th>8</th>\n",
              "      <td>spam</td>\n",
              "      <td>Marvel Mobile Play the official Ultimate Spide...</td>\n",
              "    </tr>\n",
              "    <tr>\n",
              "      <th>9</th>\n",
              "      <td>ham</td>\n",
              "      <td>fyi I'm at usf now, swing by the room whenever</td>\n",
              "    </tr>\n",
              "  </tbody>\n",
              "</table>\n",
              "</div>\n",
              "      <button class=\"colab-df-convert\" onclick=\"convertToInteractive('df-bc8b648b-1085-4794-9e24-ca0aead4d355')\"\n",
              "              title=\"Convert this dataframe to an interactive table.\"\n",
              "              style=\"display:none;\">\n",
              "        \n",
              "  <svg xmlns=\"http://www.w3.org/2000/svg\" height=\"24px\"viewBox=\"0 0 24 24\"\n",
              "       width=\"24px\">\n",
              "    <path d=\"M0 0h24v24H0V0z\" fill=\"none\"/>\n",
              "    <path d=\"M18.56 5.44l.94 2.06.94-2.06 2.06-.94-2.06-.94-.94-2.06-.94 2.06-2.06.94zm-11 1L8.5 8.5l.94-2.06 2.06-.94-2.06-.94L8.5 2.5l-.94 2.06-2.06.94zm10 10l.94 2.06.94-2.06 2.06-.94-2.06-.94-.94-2.06-.94 2.06-2.06.94z\"/><path d=\"M17.41 7.96l-1.37-1.37c-.4-.4-.92-.59-1.43-.59-.52 0-1.04.2-1.43.59L10.3 9.45l-7.72 7.72c-.78.78-.78 2.05 0 2.83L4 21.41c.39.39.9.59 1.41.59.51 0 1.02-.2 1.41-.59l7.78-7.78 2.81-2.81c.8-.78.8-2.07 0-2.86zM5.41 20L4 18.59l7.72-7.72 1.47 1.35L5.41 20z\"/>\n",
              "  </svg>\n",
              "      </button>\n",
              "      \n",
              "  <style>\n",
              "    .colab-df-container {\n",
              "      display:flex;\n",
              "      flex-wrap:wrap;\n",
              "      gap: 12px;\n",
              "    }\n",
              "\n",
              "    .colab-df-convert {\n",
              "      background-color: #E8F0FE;\n",
              "      border: none;\n",
              "      border-radius: 50%;\n",
              "      cursor: pointer;\n",
              "      display: none;\n",
              "      fill: #1967D2;\n",
              "      height: 32px;\n",
              "      padding: 0 0 0 0;\n",
              "      width: 32px;\n",
              "    }\n",
              "\n",
              "    .colab-df-convert:hover {\n",
              "      background-color: #E2EBFA;\n",
              "      box-shadow: 0px 1px 2px rgba(60, 64, 67, 0.3), 0px 1px 3px 1px rgba(60, 64, 67, 0.15);\n",
              "      fill: #174EA6;\n",
              "    }\n",
              "\n",
              "    [theme=dark] .colab-df-convert {\n",
              "      background-color: #3B4455;\n",
              "      fill: #D2E3FC;\n",
              "    }\n",
              "\n",
              "    [theme=dark] .colab-df-convert:hover {\n",
              "      background-color: #434B5C;\n",
              "      box-shadow: 0px 1px 3px 1px rgba(0, 0, 0, 0.15);\n",
              "      filter: drop-shadow(0px 1px 2px rgba(0, 0, 0, 0.3));\n",
              "      fill: #FFFFFF;\n",
              "    }\n",
              "  </style>\n",
              "\n",
              "      <script>\n",
              "        const buttonEl =\n",
              "          document.querySelector('#df-bc8b648b-1085-4794-9e24-ca0aead4d355 button.colab-df-convert');\n",
              "        buttonEl.style.display =\n",
              "          google.colab.kernel.accessAllowed ? 'block' : 'none';\n",
              "\n",
              "        async function convertToInteractive(key) {\n",
              "          const element = document.querySelector('#df-bc8b648b-1085-4794-9e24-ca0aead4d355');\n",
              "          const dataTable =\n",
              "            await google.colab.kernel.invokeFunction('convertToInteractive',\n",
              "                                                     [key], {});\n",
              "          if (!dataTable) return;\n",
              "\n",
              "          const docLinkHtml = 'Like what you see? Visit the ' +\n",
              "            '<a target=\"_blank\" href=https://colab.research.google.com/notebooks/data_table.ipynb>data table notebook</a>'\n",
              "            + ' to learn more about interactive tables.';\n",
              "          element.innerHTML = '';\n",
              "          dataTable['output_type'] = 'display_data';\n",
              "          await google.colab.output.renderOutput(dataTable, element);\n",
              "          const docLink = document.createElement('div');\n",
              "          docLink.innerHTML = docLinkHtml;\n",
              "          element.appendChild(docLink);\n",
              "        }\n",
              "      </script>\n",
              "    </div>\n",
              "  </div>\n",
              "  "
            ]
          },
          "metadata": {},
          "execution_count": 26
        }
      ]
    },
    {
      "cell_type": "code",
      "source": [
        "df_spam.shape"
      ],
      "metadata": {
        "colab": {
          "base_uri": "https://localhost:8080/"
        },
        "id": "HkmvvJ94lorz",
        "outputId": "872b403a-5ac6-49c0-9e6c-f87461960fce"
      },
      "execution_count": 27,
      "outputs": [
        {
          "output_type": "execute_result",
          "data": {
            "text/plain": [
              "(5559, 2)"
            ]
          },
          "metadata": {},
          "execution_count": 27
        }
      ]
    },
    {
      "cell_type": "markdown",
      "source": [
        "#### Data pre-processing + Feature Extraction"
      ],
      "metadata": {
        "id": "q0QZyfh_063_"
      }
    },
    {
      "cell_type": "code",
      "source": [
        "def message_text_process(message):\n",
        "  no_punctuation = [char for char in message if char not in string.punctuation]\n",
        "  no_punctuation = ''.join(no_punctuation)\n",
        "  return [word for word in no_punctuation.split() if word.lower() not in stopwords.words('english')]"
      ],
      "metadata": {
        "id": "LMa8-_dBmDPV"
      },
      "execution_count": 28,
      "outputs": []
    },
    {
      "cell_type": "code",
      "source": [
        "print(string.punctuation)"
      ],
      "metadata": {
        "colab": {
          "base_uri": "https://localhost:8080/"
        },
        "id": "FOWdY2rUmhr_",
        "outputId": "890d7430-50d7-4f14-84fd-3b6b9232ef55"
      },
      "execution_count": 29,
      "outputs": [
        {
          "output_type": "stream",
          "name": "stdout",
          "text": [
            "!\"#$%&'()*+,-./:;<=>?@[\\]^_`{|}~\n"
          ]
        }
      ]
    },
    {
      "cell_type": "code",
      "source": [
        "print(stopwords.words('english'))"
      ],
      "metadata": {
        "colab": {
          "base_uri": "https://localhost:8080/"
        },
        "id": "CFOWdcFsnYnf",
        "outputId": "a6b9581a-d8c6-41b1-ba47-b124cf709ae6"
      },
      "execution_count": 30,
      "outputs": [
        {
          "output_type": "stream",
          "name": "stdout",
          "text": [
            "['i', 'me', 'my', 'myself', 'we', 'our', 'ours', 'ourselves', 'you', \"you're\", \"you've\", \"you'll\", \"you'd\", 'your', 'yours', 'yourself', 'yourselves', 'he', 'him', 'his', 'himself', 'she', \"she's\", 'her', 'hers', 'herself', 'it', \"it's\", 'its', 'itself', 'they', 'them', 'their', 'theirs', 'themselves', 'what', 'which', 'who', 'whom', 'this', 'that', \"that'll\", 'these', 'those', 'am', 'is', 'are', 'was', 'were', 'be', 'been', 'being', 'have', 'has', 'had', 'having', 'do', 'does', 'did', 'doing', 'a', 'an', 'the', 'and', 'but', 'if', 'or', 'because', 'as', 'until', 'while', 'of', 'at', 'by', 'for', 'with', 'about', 'against', 'between', 'into', 'through', 'during', 'before', 'after', 'above', 'below', 'to', 'from', 'up', 'down', 'in', 'out', 'on', 'off', 'over', 'under', 'again', 'further', 'then', 'once', 'here', 'there', 'when', 'where', 'why', 'how', 'all', 'any', 'both', 'each', 'few', 'more', 'most', 'other', 'some', 'such', 'no', 'nor', 'not', 'only', 'own', 'same', 'so', 'than', 'too', 'very', 's', 't', 'can', 'will', 'just', 'don', \"don't\", 'should', \"should've\", 'now', 'd', 'll', 'm', 'o', 're', 've', 'y', 'ain', 'aren', \"aren't\", 'couldn', \"couldn't\", 'didn', \"didn't\", 'doesn', \"doesn't\", 'hadn', \"hadn't\", 'hasn', \"hasn't\", 'haven', \"haven't\", 'isn', \"isn't\", 'ma', 'mightn', \"mightn't\", 'mustn', \"mustn't\", 'needn', \"needn't\", 'shan', \"shan't\", 'shouldn', \"shouldn't\", 'wasn', \"wasn't\", 'weren', \"weren't\", 'won', \"won't\", 'wouldn', \"wouldn't\"]\n"
          ]
        }
      ]
    },
    {
      "cell_type": "code",
      "source": [
        "df_spam['text'].head(11).apply(message_text_process)"
      ],
      "metadata": {
        "colab": {
          "base_uri": "https://localhost:8080/"
        },
        "id": "_wpCexbyng3o",
        "outputId": "e5593706-8e52-4694-c92e-7a9d9066fd8b"
      },
      "execution_count": 31,
      "outputs": [
        {
          "output_type": "execute_result",
          "data": {
            "text/plain": [
              "0                          [Hope, good, week, checking]\n",
              "1                                 [Kgive, back, thanks]\n",
              "2                                      [also, cbe, pay]\n",
              "3     [complimentary, 4, STAR, Ibiza, Holiday, å£100...\n",
              "4     [okmail, Dear, Dave, final, notice, collect, 4...\n",
              "5               [Aiya, discuss, later, lar, Pick, u, 4]\n",
              "6                                          [much, buzy]\n",
              "7                    [Please, ask, mummy, call, father]\n",
              "8     [Marvel, Mobile, Play, official, Ultimate, Spi...\n",
              "9                 [fyi, Im, usf, swing, room, whenever]\n",
              "10    [Sure, thing, big, man, hockey, elections, 6, ...\n",
              "Name: text, dtype: object"
            ]
          },
          "metadata": {},
          "execution_count": 31
        }
      ]
    },
    {
      "cell_type": "code",
      "source": [
        "bag_words = CountVectorizer(analyzer = message_text_process).fit(df_spam['text'])"
      ],
      "metadata": {
        "id": "mB3CYxMNo0z_"
      },
      "execution_count": 33,
      "outputs": []
    },
    {
      "cell_type": "code",
      "source": [
        "print(len(bag_words.vocabulary_))"
      ],
      "metadata": {
        "colab": {
          "base_uri": "https://localhost:8080/"
        },
        "id": "cfRDJeqFrkyq",
        "outputId": "e4bf58bb-75fd-40be-e0c2-1460d95835f8"
      },
      "execution_count": 36,
      "outputs": [
        {
          "output_type": "stream",
          "name": "stdout",
          "text": [
            "11356\n"
          ]
        }
      ]
    },
    {
      "cell_type": "code",
      "source": [
        "print(bag_words)"
      ],
      "metadata": {
        "colab": {
          "base_uri": "https://localhost:8080/"
        },
        "id": "XArXgL1srq5E",
        "outputId": "cb4f7fff-7747-41a2-b348-8bf1e18b1ad8"
      },
      "execution_count": 37,
      "outputs": [
        {
          "output_type": "stream",
          "name": "stdout",
          "text": [
            "CountVectorizer(analyzer=<function message_text_process at 0x7f5b26024c10>)\n"
          ]
        }
      ]
    },
    {
      "cell_type": "code",
      "source": [
        "message_bagwords = bag_words.transform(df_spam['text'])"
      ],
      "metadata": {
        "id": "VbkRT1Tfr1NQ"
      },
      "execution_count": 39,
      "outputs": []
    },
    {
      "cell_type": "code",
      "source": [
        "print(message_bagwords)"
      ],
      "metadata": {
        "colab": {
          "base_uri": "https://localhost:8080/"
        },
        "id": "EOfgOVDDuL0i",
        "outputId": "a5a2fd91-689d-41f7-9453-b514e35cdbaf"
      },
      "execution_count": 40,
      "outputs": [
        {
          "output_type": "stream",
          "name": "stdout",
          "text": [
            "  (0, 2254)\t1\n",
            "  (0, 5414)\t1\n",
            "  (0, 6847)\t1\n",
            "  (0, 10943)\t1\n",
            "  (1, 2489)\t1\n",
            "  (1, 4865)\t1\n",
            "  (1, 10332)\t1\n",
            "  (2, 4611)\t1\n",
            "  (2, 5352)\t1\n",
            "  (2, 8719)\t1\n",
            "  (3, 262)\t1\n",
            "  (3, 605)\t1\n",
            "  (3, 1296)\t1\n",
            "  (3, 2244)\t1\n",
            "  (3, 2329)\t1\n",
            "  (3, 2588)\t1\n",
            "  (3, 3523)\t1\n",
            "  (3, 4066)\t1\n",
            "  (3, 5331)\t1\n",
            "  (3, 5554)\t1\n",
            "  (3, 5601)\t1\n",
            "  (3, 7847)\t1\n",
            "  (3, 8343)\t1\n",
            "  (3, 11304)\t1\n",
            "  (4, 224)\t1\n",
            "  :\t:\n",
            "  (5557, 509)\t1\n",
            "  (5557, 965)\t1\n",
            "  (5557, 1721)\t1\n",
            "  (5557, 1777)\t1\n",
            "  (5557, 1778)\t1\n",
            "  (5557, 2403)\t1\n",
            "  (5557, 2404)\t1\n",
            "  (5557, 3278)\t1\n",
            "  (5557, 3397)\t2\n",
            "  (5557, 3486)\t1\n",
            "  (5557, 4454)\t1\n",
            "  (5557, 7076)\t1\n",
            "  (5557, 7594)\t1\n",
            "  (5557, 7688)\t1\n",
            "  (5557, 8015)\t1\n",
            "  (5557, 9120)\t1\n",
            "  (5557, 9755)\t1\n",
            "  (5557, 10077)\t1\n",
            "  (5557, 10637)\t1\n",
            "  (5557, 10715)\t1\n",
            "  (5557, 11121)\t1\n",
            "  (5558, 3627)\t1\n",
            "  (5558, 5243)\t1\n",
            "  (5558, 5867)\t1\n",
            "  (5558, 6606)\t1\n"
          ]
        }
      ]
    },
    {
      "cell_type": "markdown",
      "source": [
        "Importing Term Frequency Inverse Document Frequency Transformer"
      ],
      "metadata": {
        "id": "RjE5T2HNv21_"
      }
    },
    {
      "cell_type": "code",
      "source": [
        "tfidf_transformer = TfidfTransformer().fit(message_bagwords)"
      ],
      "metadata": {
        "id": "u_cmQONouVr2"
      },
      "execution_count": 42,
      "outputs": []
    },
    {
      "cell_type": "code",
      "source": [
        "message_tfidf = tfidf_transformer.transform(message_bagwords)"
      ],
      "metadata": {
        "id": "lZ1Su9nXu_W6"
      },
      "execution_count": 43,
      "outputs": []
    },
    {
      "cell_type": "code",
      "source": [
        "print(message_tfidf.shape)\n",
        "print(message_tfidf)"
      ],
      "metadata": {
        "colab": {
          "base_uri": "https://localhost:8080/"
        },
        "id": "8-8Li6hSviIk",
        "outputId": "9dcba5e0-a94a-4012-a15d-dfbef4c0414c"
      },
      "execution_count": 44,
      "outputs": [
        {
          "output_type": "stream",
          "name": "stdout",
          "text": [
            "(5559, 11356)\n",
            "  (0, 10943)\t0.4379039903544475\n",
            "  (0, 6847)\t0.4079211665788139\n",
            "  (0, 5414)\t0.6229255062832731\n",
            "  (0, 2254)\t0.5037898676138289\n",
            "  (1, 10332)\t0.53343447866409\n",
            "  (1, 4865)\t0.3941617905371652\n",
            "  (1, 2489)\t0.7483876935472058\n",
            "  (2, 8719)\t0.5395126957976536\n",
            "  (2, 5352)\t0.6872527142806397\n",
            "  (2, 4611)\t0.486425490478287\n",
            "  (3, 11304)\t0.2886588513405475\n",
            "  (3, 8343)\t0.26016042466750977\n",
            "  (3, 7847)\t0.26016042466750977\n",
            "  (3, 5601)\t0.26016042466750977\n",
            "  (3, 5554)\t0.2332211897066975\n",
            "  (3, 5331)\t0.20699668006135605\n",
            "  (3, 4066)\t0.2169360073935419\n",
            "  (3, 3523)\t0.32915177840434773\n",
            "  (3, 2588)\t0.2780553934168467\n",
            "  (3, 2329)\t0.2953789049732685\n",
            "  (3, 2244)\t0.24076955349243523\n",
            "  (3, 1296)\t0.32915177840434773\n",
            "  (3, 605)\t0.147541827236046\n",
            "  (3, 262)\t0.32915177840434773\n",
            "  (4, 8523)\t0.2839777476652211\n",
            "  :\t:\n",
            "  (5557, 10715)\t0.11021052039206913\n",
            "  (5557, 10637)\t0.08306947846909804\n",
            "  (5557, 10077)\t0.2120492716727746\n",
            "  (5557, 9755)\t0.2417954431547904\n",
            "  (5557, 9120)\t0.1353368128310807\n",
            "  (5557, 8015)\t0.17033997821294367\n",
            "  (5557, 7688)\t0.2417954431547904\n",
            "  (5557, 7594)\t0.11239526401409226\n",
            "  (5557, 7076)\t0.2120492716727746\n",
            "  (5557, 4454)\t0.21698583423374507\n",
            "  (5557, 3486)\t0.17340848066985723\n",
            "  (5557, 3397)\t0.3092814720540294\n",
            "  (5557, 3278)\t0.2417954431547904\n",
            "  (5557, 2404)\t0.2417954431547904\n",
            "  (5557, 2403)\t0.2417954431547904\n",
            "  (5557, 1778)\t0.22302769851194781\n",
            "  (5557, 1777)\t0.23081701631561713\n",
            "  (5557, 1721)\t0.21698583423374507\n",
            "  (5557, 965)\t0.2417954431547904\n",
            "  (5557, 509)\t0.20107084483360138\n",
            "  (5557, 508)\t0.2417954431547904\n",
            "  (5558, 6606)\t0.5520829471894015\n",
            "  (5558, 5867)\t0.4731191313854887\n",
            "  (5558, 5243)\t0.31376939786554225\n",
            "  (5558, 3627)\t0.6106647786656769\n"
          ]
        }
      ]
    },
    {
      "cell_type": "markdown",
      "source": [
        "Building a Model"
      ],
      "metadata": {
        "id": "EblFeQ1MwHVv"
      }
    },
    {
      "cell_type": "code",
      "source": [
        "X = message_tfidf\n",
        "print(X)\n",
        "y = df_spam['type']\n",
        "print(y)"
      ],
      "metadata": {
        "colab": {
          "base_uri": "https://localhost:8080/"
        },
        "id": "QklweeQ3vvyd",
        "outputId": "ca61288d-0176-48c6-fdae-eccc0bba91ae"
      },
      "execution_count": 45,
      "outputs": [
        {
          "output_type": "stream",
          "name": "stdout",
          "text": [
            "  (0, 10943)\t0.4379039903544475\n",
            "  (0, 6847)\t0.4079211665788139\n",
            "  (0, 5414)\t0.6229255062832731\n",
            "  (0, 2254)\t0.5037898676138289\n",
            "  (1, 10332)\t0.53343447866409\n",
            "  (1, 4865)\t0.3941617905371652\n",
            "  (1, 2489)\t0.7483876935472058\n",
            "  (2, 8719)\t0.5395126957976536\n",
            "  (2, 5352)\t0.6872527142806397\n",
            "  (2, 4611)\t0.486425490478287\n",
            "  (3, 11304)\t0.2886588513405475\n",
            "  (3, 8343)\t0.26016042466750977\n",
            "  (3, 7847)\t0.26016042466750977\n",
            "  (3, 5601)\t0.26016042466750977\n",
            "  (3, 5554)\t0.2332211897066975\n",
            "  (3, 5331)\t0.20699668006135605\n",
            "  (3, 4066)\t0.2169360073935419\n",
            "  (3, 3523)\t0.32915177840434773\n",
            "  (3, 2588)\t0.2780553934168467\n",
            "  (3, 2329)\t0.2953789049732685\n",
            "  (3, 2244)\t0.24076955349243523\n",
            "  (3, 1296)\t0.32915177840434773\n",
            "  (3, 605)\t0.147541827236046\n",
            "  (3, 262)\t0.32915177840434773\n",
            "  (4, 8523)\t0.2839777476652211\n",
            "  :\t:\n",
            "  (5557, 10715)\t0.11021052039206913\n",
            "  (5557, 10637)\t0.08306947846909804\n",
            "  (5557, 10077)\t0.2120492716727746\n",
            "  (5557, 9755)\t0.2417954431547904\n",
            "  (5557, 9120)\t0.1353368128310807\n",
            "  (5557, 8015)\t0.17033997821294367\n",
            "  (5557, 7688)\t0.2417954431547904\n",
            "  (5557, 7594)\t0.11239526401409226\n",
            "  (5557, 7076)\t0.2120492716727746\n",
            "  (5557, 4454)\t0.21698583423374507\n",
            "  (5557, 3486)\t0.17340848066985723\n",
            "  (5557, 3397)\t0.3092814720540294\n",
            "  (5557, 3278)\t0.2417954431547904\n",
            "  (5557, 2404)\t0.2417954431547904\n",
            "  (5557, 2403)\t0.2417954431547904\n",
            "  (5557, 1778)\t0.22302769851194781\n",
            "  (5557, 1777)\t0.23081701631561713\n",
            "  (5557, 1721)\t0.21698583423374507\n",
            "  (5557, 965)\t0.2417954431547904\n",
            "  (5557, 509)\t0.20107084483360138\n",
            "  (5557, 508)\t0.2417954431547904\n",
            "  (5558, 6606)\t0.5520829471894015\n",
            "  (5558, 5867)\t0.4731191313854887\n",
            "  (5558, 5243)\t0.31376939786554225\n",
            "  (5558, 3627)\t0.6106647786656769\n",
            "0        ham\n",
            "1        ham\n",
            "2        ham\n",
            "3       spam\n",
            "4       spam\n",
            "        ... \n",
            "5554     ham\n",
            "5555     ham\n",
            "5556    spam\n",
            "5557    spam\n",
            "5558     ham\n",
            "Name: type, Length: 5559, dtype: object\n"
          ]
        }
      ]
    },
    {
      "cell_type": "code",
      "source": [
        "X_train, X_test, y_train, y_test = train_test_split(X,y, test_size = 0.2)"
      ],
      "metadata": {
        "id": "plB9LF63wW6S"
      },
      "execution_count": 46,
      "outputs": []
    },
    {
      "cell_type": "code",
      "source": [
        "print(X_train.shape)\n",
        "print(X_test.shape)\n",
        "print(y_train.shape)\n",
        "print(y_test.shape)"
      ],
      "metadata": {
        "colab": {
          "base_uri": "https://localhost:8080/"
        },
        "id": "sI57oDiQwza5",
        "outputId": "352150a3-65cf-42fd-cb08-fa0c45b2b4f1"
      },
      "execution_count": 48,
      "outputs": [
        {
          "output_type": "stream",
          "name": "stdout",
          "text": [
            "(4447, 11356)\n",
            "(1112, 11356)\n",
            "(4447,)\n",
            "(1112,)\n"
          ]
        }
      ]
    },
    {
      "cell_type": "code",
      "source": [
        "spam_detect = svm.SVC(kernel = 'linear', C= 1, gamma = 10). fit(X_train, y_train)"
      ],
      "metadata": {
        "id": "1N5217Y-w3x2"
      },
      "execution_count": 49,
      "outputs": []
    },
    {
      "cell_type": "code",
      "source": [
        "predicted = spam_detect.predict(X_test)"
      ],
      "metadata": {
        "id": "SCsBvWdjxbbQ"
      },
      "execution_count": 51,
      "outputs": []
    },
    {
      "cell_type": "code",
      "source": [
        "predicted"
      ],
      "metadata": {
        "colab": {
          "base_uri": "https://localhost:8080/"
        },
        "id": "WlByupMYxg7q",
        "outputId": "18538e62-26a6-4e0e-c813-2d1d74b1e2a4"
      },
      "execution_count": 52,
      "outputs": [
        {
          "output_type": "execute_result",
          "data": {
            "text/plain": [
              "array(['ham', 'spam', 'ham', ..., 'spam', 'ham', 'ham'], dtype=object)"
            ]
          },
          "metadata": {},
          "execution_count": 52
        }
      ]
    },
    {
      "cell_type": "code",
      "source": [
        "expected = y_test\n",
        "print(metrics.classification_report(expected, predicted))\n",
        "print(metrics.confusion_matrix(expected, predicted))"
      ],
      "metadata": {
        "colab": {
          "base_uri": "https://localhost:8080/"
        },
        "id": "3QmHGWsJxkm4",
        "outputId": "b258cbfb-fc0f-45cc-b6b3-fe2b69d9be21"
      },
      "execution_count": 53,
      "outputs": [
        {
          "output_type": "stream",
          "name": "stdout",
          "text": [
            "              precision    recall  f1-score   support\n",
            "\n",
            "         ham       0.98      1.00      0.99       952\n",
            "        spam       0.99      0.88      0.93       160\n",
            "\n",
            "    accuracy                           0.98      1112\n",
            "   macro avg       0.98      0.94      0.96      1112\n",
            "weighted avg       0.98      0.98      0.98      1112\n",
            "\n",
            "[[950   2]\n",
            " [ 19 141]]\n"
          ]
        }
      ]
    },
    {
      "cell_type": "code",
      "source": [
        "metrics.accuracy_score(expected, predicted)"
      ],
      "metadata": {
        "colab": {
          "base_uri": "https://localhost:8080/"
        },
        "id": "A_fe05nFyZEX",
        "outputId": "832ee226-e186-4975-970e-bdbbb393ad22"
      },
      "execution_count": 54,
      "outputs": [
        {
          "output_type": "execute_result",
          "data": {
            "text/plain": [
              "0.9811151079136691"
            ]
          },
          "metadata": {},
          "execution_count": 54
        }
      ]
    }
  ]
}